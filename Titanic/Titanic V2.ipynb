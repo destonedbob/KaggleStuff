{
 "cells": [
  {
   "cell_type": "markdown",
   "metadata": {},
   "source": [
    "## Importing Data and viewing overall"
   ]
  },
  {
   "cell_type": "code",
   "execution_count": 1,
   "metadata": {},
   "outputs": [
    {
     "name": "stdout",
     "output_type": "stream",
     "text": [
      "             Pclass                                          Name     Sex  \\\n",
      "PassengerId                                                                 \n",
      "892               3                              Kelly, Mr. James    male   \n",
      "893               3              Wilkes, Mrs. James (Ellen Needs)  female   \n",
      "894               2                     Myles, Mr. Thomas Francis    male   \n",
      "895               3                              Wirz, Mr. Albert    male   \n",
      "896               3  Hirvonen, Mrs. Alexander (Helga E Lindqvist)  female   \n",
      "\n",
      "              Age  SibSp  Parch   Ticket     Fare Cabin Embarked  \n",
      "PassengerId                                                       \n",
      "892          34.5      0      0   330911   7.8292   NaN        Q  \n",
      "893          47.0      1      0   363272   7.0000   NaN        S  \n",
      "894          62.0      0      0   240276   9.6875   NaN        Q  \n",
      "895          27.0      0      0   315154   8.6625   NaN        S  \n",
      "896          22.0      1      1  3101298  12.2875   NaN        S  \n"
     ]
    }
   ],
   "source": [
    "import pandas as pd\n",
    "import numpy as np\n",
    "import matplotlib.pyplot as plt\n",
    "import seaborn as sns\n",
    "import random\n",
    "random.seed(42)\n",
    "\n",
    "train_df = pd.read_csv(\"train.csv\", index_col=\"PassengerId\")\n",
    "final_test_df = pd.read_csv(\"test.csv\", index_col=\"PassengerId\")  \n",
    "\n",
    "# print(train_df.info())\n",
    "# print(train_df.head())\n",
    "# print(final_test_df.info())\n",
    "print(final_test_df.head())\n",
    "\n",
    "# columns : ['Survived', 'Pclass', 'Name', 'Sex', 'Age', 'SibSp', 'Parch', 'Ticket','Fare', 'Cabin', 'Embarked']\n",
    "\n",
    "\n"
   ]
  },
  {
   "cell_type": "markdown",
   "metadata": {},
   "source": [
    "## Feature extraction based on insights drawn from other people's work\n",
    "https://www.kaggle.com/imoore/titanic-the-only-notebook-you-need-to-see\n",
    "\n",
    "-Cabin\n",
    "-Family Size\n",
    "-New way to impute age (using random, mean and std)\n",
    "-Impute embarked with mode instead\n"
   ]
  },
  {
   "cell_type": "code",
   "execution_count": 2,
   "metadata": {},
   "outputs": [],
   "source": [
    "combined_df = [train_df, final_test_df]\n",
    "    \n",
    "for df in combined_df:\n",
    "    #Cabin\n",
    "    df[\"HasCabin\"] = 1 #Have\n",
    "    df.loc[df[\"Cabin\"].isna(),\"HasCabin\"] = 0 #Dont have\n",
    "    #family size\n",
    "    df[\"Family_Size\"] = df[\"SibSp\"] + df[\"Parch\"] + 1\n",
    "    #age\n",
    "    age_mean = train_df[\"Age\"].mean()\n",
    "    age_std = train_df[\"Age\"].std()\n",
    "    rand_age = random.randint(int(age_mean-age_std), int(age_mean+age_std))\n",
    "    df[\"Age\"] = df[\"Age\"].fillna(rand_age)\n",
    "    #fare\n",
    "    fare_mean = train_df[\"Fare\"].mean()\n",
    "    fare_std = train_df[\"Fare\"].std()\n",
    "    rand_fare = random.randint(int(fare_mean-fare_std), int(fare_mean+fare_std))\n",
    "    df[\"Fare\"] = df[\"Fare\"].fillna(rand_fare)\n",
    "    #Embarked\n",
    "    df[\"Embarked\"] = df[\"Embarked\"].map({\"C\":0,\"Q\":1,\"S\":2})\n",
    "    df[\"Embarked\"].fillna(df[\"Embarked\"].mode()[0], inplace=True)\n",
    "    #Sex\n",
    "    df[\"Sex\"] = df[\"Sex\"].map({\"male\":1,\"female\":0})\n",
    "    \n",
    "  "
   ]
  },
  {
   "cell_type": "code",
   "execution_count": 3,
   "metadata": {},
   "outputs": [],
   "source": [
    "#Dropping redundant columns\n",
    "for df in combined_df:\n",
    "    df.drop([\"Name\", \"SibSp\", \"Parch\", 'Ticket', 'Cabin'], axis=1, inplace=True)\n",
    "    df[\"Embarked\"].astype(\"int64\")"
   ]
  },
  {
   "cell_type": "code",
   "execution_count": 4,
   "metadata": {},
   "outputs": [
    {
     "name": "stdout",
     "output_type": "stream",
     "text": [
      "<class 'pandas.core.frame.DataFrame'>\n",
      "Int64Index: 418 entries, 892 to 1309\n",
      "Data columns (total 7 columns):\n",
      " #   Column       Non-Null Count  Dtype  \n",
      "---  ------       --------------  -----  \n",
      " 0   Pclass       418 non-null    int64  \n",
      " 1   Sex          418 non-null    int64  \n",
      " 2   Age          418 non-null    float64\n",
      " 3   Fare         418 non-null    float64\n",
      " 4   Embarked     418 non-null    int64  \n",
      " 5   HasCabin     418 non-null    int64  \n",
      " 6   Family_Size  418 non-null    int64  \n",
      "dtypes: float64(2), int64(5)\n",
      "memory usage: 26.1 KB\n"
     ]
    }
   ],
   "source": [
    "df.info()"
   ]
  },
  {
   "cell_type": "code",
   "execution_count": 5,
   "metadata": {
    "scrolled": true
   },
   "outputs": [
    {
     "name": "stdout",
     "output_type": "stream",
     "text": [
      "             Survived  Pclass  Sex   Age     Fare  Embarked  HasCabin  \\\n",
      "PassengerId                                                             \n",
      "1                   0       3    1  22.0   7.2500       2.0         0   \n",
      "2                   1       1    0  38.0  71.2833       0.0         1   \n",
      "3                   1       3    0  26.0   7.9250       2.0         0   \n",
      "4                   1       1    0  35.0  53.1000       2.0         1   \n",
      "5                   0       3    1  35.0   8.0500       2.0         0   \n",
      "\n",
      "             Family_Size  \n",
      "PassengerId               \n",
      "1                      2  \n",
      "2                      2  \n",
      "3                      1  \n",
      "4                      2  \n",
      "5                      1  \n"
     ]
    }
   ],
   "source": [
    "num_cols = [\"Age\", \"Fare\", \"Family_Size\"]\n",
    "cat_cols = [\"Pclass\", \"Sex\", \"HasCabin\"]\n",
    "output_var = [\"Survived\"]\n",
    "print(train_df.head())"
   ]
  },
  {
   "cell_type": "markdown",
   "metadata": {},
   "source": [
    "## Model Building"
   ]
  },
  {
   "cell_type": "code",
   "execution_count": 56,
   "metadata": {},
   "outputs": [],
   "source": [
    "#Importing modules\n",
    "from sklearn.preprocessing import StandardScaler, OneHotEncoder\n",
    "from sklearn.neighbors import KNeighborsClassifier\n",
    "from sklearn.model_selection import train_test_split, RandomizedSearchCV, GridSearchCV\n",
    "from sklearn.compose import ColumnTransformer\n",
    "from sklearn.pipeline import make_pipeline\n",
    "from sklearn.ensemble import VotingClassifier,RandomForestClassifier\n",
    "from sklearn.metrics import accuracy_score, f1_score, classification_report, confusion_matrix, roc_auc_score"
   ]
  },
  {
   "cell_type": "code",
   "execution_count": 36,
   "metadata": {},
   "outputs": [],
   "source": [
    "x_total = train_df.drop(\"Survived\", axis=1)\n",
    "y_total = train_df[\"Survived\"]\n",
    "x , x_test, y, y_test = train_test_split(x_total, y_total, stratify = y_total, test_size = 0.2)\n",
    "x_train, x_val, y_train, y_val = train_test_split(x, y, stratify = y, test_size = 0.2)\n"
   ]
  },
  {
   "cell_type": "code",
   "execution_count": 37,
   "metadata": {},
   "outputs": [],
   "source": [
    "preprocess = ColumnTransformer(\n",
    "    transformers = [\n",
    "                    ('Standardscaler', StandardScaler(), num_cols),\n",
    "                     (\"Onehotencoder\", OneHotEncoder(), cat_cols)\n",
    "    ],\n",
    "    remainder = 'passthrough'\n",
    "    \n",
    ")\n",
    "\n",
    "pipeline_knn = make_pipeline(\n",
    "            preprocess,\n",
    "            KNeighborsClassifier())\n",
    "\n",
    "pipeline_rf = make_pipeline(\n",
    "            preprocess,\n",
    "            RandomForestClassifier(random_state=42))\n",
    "\n"
   ]
  },
  {
   "cell_type": "code",
   "execution_count": 39,
   "metadata": {
    "scrolled": true
   },
   "outputs": [
    {
     "data": {
      "text/plain": [
       "GridSearchCV(cv=10,\n",
       "             estimator=Pipeline(steps=[('columntransformer',\n",
       "                                        ColumnTransformer(remainder='passthrough',\n",
       "                                                          transformers=[('Standardscaler',\n",
       "                                                                         StandardScaler(),\n",
       "                                                                         ['Age',\n",
       "                                                                          'Fare',\n",
       "                                                                          'Family_Size']),\n",
       "                                                                        ('Onehotencoder',\n",
       "                                                                         OneHotEncoder(),\n",
       "                                                                         ['Pclass',\n",
       "                                                                          'Sex',\n",
       "                                                                          'HasCabin'])])),\n",
       "                                       ('kneighborsclassifier',\n",
       "                                        KNeighborsClassifier())]),\n",
       "             n_jobs=-1,\n",
       "             param_grid={'kneighborsclassifier__leaf_size': [1, 2, 3, 4, 5, 6,\n",
       "                                                             7, 8, 9, 10, 11,\n",
       "                                                             12, 13, 14, 15, 16,\n",
       "                                                             17, 18, 19, 20, 21,\n",
       "                                                             22, 23, 24, 25],\n",
       "                         'kneighborsclassifier__n_neighbors': [1, 2, 3, 4, 5, 6,\n",
       "                                                               7, 8, 9, 10]},\n",
       "             scoring='roc_auc')"
      ]
     },
     "execution_count": 39,
     "metadata": {},
     "output_type": "execute_result"
    }
   ],
   "source": [
    "knn_hyper = {\"kneighborsclassifier__n_neighbors\" : list(range(1,11)),\n",
    "            \"kneighborsclassifier__leaf_size\": list(range(1,26))\n",
    "            }\n",
    "\n",
    "model_knn = GridSearchCV(pipeline_knn, knn_hyper, cv=10, n_jobs=-1,scoring=\"roc_auc\")\n",
    "\n",
    "model_knn.fit(x_train,y_train.values.ravel())\n",
    "\n"
   ]
  },
  {
   "cell_type": "code",
   "execution_count": 44,
   "metadata": {},
   "outputs": [
    {
     "name": "stderr",
     "output_type": "stream",
     "text": [
      "C:\\Users\\desto\\anaconda3\\lib\\site-packages\\seaborn\\_decorators.py:36: FutureWarning: Pass the following variables as keyword args: x, y. From version 0.12, the only valid positional argument will be `data`, and passing other arguments without an explicit keyword will result in an error or misinterpretation.\n",
      "  warnings.warn(\n"
     ]
    },
    {
     "data": {
      "text/plain": [
       "<AxesSubplot:xlabel='n_neighbors', ylabel='mean_test_score'>"
      ]
     },
     "execution_count": 44,
     "metadata": {},
     "output_type": "execute_result"
    },
    {
     "data": {
      "image/png": "[encoded data removed]",
      "text/plain": [
       "<Figure size 432x288 with 1 Axes>"
      ]
     },
     "metadata": {
      "needs_background": "light"
     },
     "output_type": "display_data"
    }
   ],
   "source": [
    "temp_knn = pd.DataFrame({'n_neighbors':model_knn.cv_results_['param_kneighborsclassifier__n_neighbors'], 'leaf_size': model_knn.cv_results_['param_kneighborsclassifier__leaf_size'], 'mean_test_score': model_knn.cv_results_['mean_test_score']})\n",
    "sns.lineplot('n_neighbors', 'mean_test_score', hue= 'leaf_size',data=temp_knn, marker='.', linestyle='none')"
   ]
  },
  {
   "cell_type": "code",
   "execution_count": 50,
   "metadata": {
    "scrolled": true
   },
   "outputs": [
    {
     "name": "stderr",
     "output_type": "stream",
     "text": [
      "C:\\Users\\desto\\anaconda3\\lib\\site-packages\\seaborn\\_decorators.py:36: FutureWarning: Pass the following variables as keyword args: x, y. From version 0.12, the only valid positional argument will be `data`, and passing other arguments without an explicit keyword will result in an error or misinterpretation.\n",
      "  warnings.warn(\n"
     ]
    },
    {
     "data": {
      "text/plain": [
       "<AxesSubplot:xlabel='n_neighbors', ylabel='mean_test_score'>"
      ]
     },
     "execution_count": 50,
     "metadata": {},
     "output_type": "execute_result"
    },
    {
     "data": {
      "image/png": "[encoded data removed]",
      "text/plain": [
       "<Figure size 432x288 with 1 Axes>"
      ]
     },
     "metadata": {
      "needs_background": "light"
     },
     "output_type": "display_data"
    }
   ],
   "source": [
    "knn_hyper = {\"kneighborsclassifier__n_neighbors\" : list(range(3,10)),\n",
    "            \"kneighborsclassifier__leaf_size\": list(range(10,26,2))\n",
    "            }\n",
    "\n",
    "model_knn = GridSearchCV(pipeline_knn, knn_hyper, cv=10, n_jobs=-1,scoring=\"roc_auc\")\n",
    "\n",
    "model_knn.fit(x_train,y_train.values.ravel())\n",
    "\n",
    "temp_knn2 = pd.DataFrame({'n_neighbors':model_knn.cv_results_['param_kneighborsclassifier__n_neighbors'], 'leaf_size': model_knn.cv_results_['param_kneighborsclassifier__leaf_size'], 'mean_test_score': model_knn.cv_results_['mean_test_score']})\n",
    "sns.lineplot('n_neighbors', 'mean_test_score', hue= 'leaf_size',data=temp_knn2, marker='.', linestyle='none',palette='Set2')\n"
   ]
  },
  {
   "cell_type": "code",
   "execution_count": 51,
   "metadata": {},
   "outputs": [
    {
     "name": "stderr",
     "output_type": "stream",
     "text": [
      "C:\\Users\\desto\\anaconda3\\lib\\site-packages\\seaborn\\_decorators.py:36: FutureWarning: Pass the following variables as keyword args: x, y. From version 0.12, the only valid positional argument will be `data`, and passing other arguments without an explicit keyword will result in an error or misinterpretation.\n",
      "  warnings.warn(\n"
     ]
    },
    {
     "data": {
      "text/plain": [
       "<AxesSubplot:xlabel='n_neighbors', ylabel='mean_test_score'>"
      ]
     },
     "execution_count": 51,
     "metadata": {},
     "output_type": "execute_result"
    },
    {
     "data": {
      "image/png": "[encoded data removed]",
      "text/plain": [
       "<Figure size 432x288 with 1 Axes>"
      ]
     },
     "metadata": {
      "needs_background": "light"
     },
     "output_type": "display_data"
    }
   ],
   "source": [
    "knn_hyper = {\"kneighborsclassifier__n_neighbors\" : list(range(3,10)),\n",
    "            \"kneighborsclassifier__leaf_size\": list(range(10,18))\n",
    "            }\n",
    "\n",
    "model_knn = GridSearchCV(pipeline_knn, knn_hyper, cv=10, n_jobs=-1,scoring=\"roc_auc\")\n",
    "\n",
    "model_knn.fit(x_train,y_train.values.ravel())\n",
    "\n",
    "temp_knn2 = pd.DataFrame({'n_neighbors':model_knn.cv_results_['param_kneighborsclassifier__n_neighbors'], 'leaf_size': model_knn.cv_results_['param_kneighborsclassifier__leaf_size'], 'mean_test_score': model_knn.cv_results_['mean_test_score']})\n",
    "sns.lineplot('n_neighbors', 'mean_test_score', hue= 'leaf_size',data=temp_knn2, marker='.', linestyle='none',palette='Set2')\n"
   ]
  },
  {
   "cell_type": "code",
   "execution_count": 53,
   "metadata": {},
   "outputs": [
    {
     "name": "stdout",
     "output_type": "stream",
     "text": [
      "{'kneighborsclassifier__leaf_size': 10, 'kneighborsclassifier__n_neighbors': 4} 0.8416388373531232\n"
     ]
    }
   ],
   "source": [
    "print(model_knn.best_params_, model_knn.best_score_)"
   ]
  },
  {
   "cell_type": "code",
   "execution_count": 57,
   "metadata": {},
   "outputs": [
    {
     "data": {
      "text/plain": [
       "0.8295454545454546"
      ]
     },
     "execution_count": 57,
     "metadata": {},
     "output_type": "execute_result"
    }
   ],
   "source": [
    "model_knn.best_estimator_.fit(x_train, y_train)\n",
    "model_knn_preds = model_knn.best_estimator_.predict(x_val)\n",
    "roc_auc_score(y_val,model_knn_preds)"
   ]
  },
  {
   "cell_type": "code",
   "execution_count": 58,
   "metadata": {},
   "outputs": [
    {
     "data": {
      "text/plain": [
       "RandomizedSearchCV(cv=10,\n",
       "                   estimator=Pipeline(steps=[('columntransformer',\n",
       "                                              ColumnTransformer(remainder='passthrough',\n",
       "                                                                transformers=[('Standardscaler',\n",
       "                                                                               StandardScaler(),\n",
       "                                                                               ['Age',\n",
       "                                                                                'Fare',\n",
       "                                                                                'Family_Size']),\n",
       "                                                                              ('Onehotencoder',\n",
       "                                                                               OneHotEncoder(),\n",
       "                                                                               ['Pclass',\n",
       "                                                                                'Sex',\n",
       "                                                                                'HasCabin'])])),\n",
       "                                             ('randomforestclassifier',\n",
       "                                              RandomForestClassifier(random_state=42))]),\n",
       "                   n_iter=25, n_jobs=-1,\n",
       "                   param_distributions={'randomforestclassifier__max_depth': range(2, 10),\n",
       "                                        'randomforestclassifier__max_features': range(2, 9),\n",
       "                                        'randomforestclassifier__min_samples_leaf': range(1, 8),\n",
       "                                        'randomforestclassifier__n_estimators': range(100, 500, 100)},\n",
       "                   scoring='roc_auc')"
      ]
     },
     "execution_count": 58,
     "metadata": {},
     "output_type": "execute_result"
    }
   ],
   "source": [
    "rf_hyper = {'randomforestclassifier__n_estimators' : range(100,500,100),\n",
    "           'randomforestclassifier__max_depth': range(2,10),\n",
    "           'randomforestclassifier__min_samples_leaf' : range(1,8),\n",
    "           'randomforestclassifier__max_features' : range(2,9)}\n",
    "\n",
    "model_rf = RandomizedSearchCV(pipeline_rf, rf_hyper, cv=10, n_iter=25, n_jobs=-1,scoring=\"roc_auc\")\n",
    "\n",
    "model_rf.fit(x_train,y_train.values.ravel())\n"
   ]
  },
  {
   "cell_type": "code",
   "execution_count": 76,
   "metadata": {
    "scrolled": true
   },
   "outputs": [
    {
     "name": "stdout",
     "output_type": "stream",
     "text": [
      "   max_depth     score\n",
      "19         2  0.850045\n",
      "23         2  0.845440\n",
      "0          3  0.856361\n",
      "1          4  0.861076\n",
      "2          4  0.862510\n",
      "22         4  0.861958\n",
      "6          4  0.863045\n",
      "7          4  0.856472\n",
      "4          5  0.857013\n",
      "21         5  0.856666\n",
      "20         5  0.861441\n",
      "10         5  0.856402\n",
      "16         5  0.862888\n",
      "12         6  0.856996\n",
      "11         6  0.860262\n",
      "9          6  0.855823\n",
      "13         6  0.856884\n",
      "24         6  0.861394\n",
      "15         7  0.856564\n",
      "17         7  0.857510\n",
      "8          7  0.860360\n",
      "18         8  0.861336\n",
      "3          8  0.860449\n",
      "14         9  0.859105\n",
      "5          9  0.861494\n",
      "   max_features     score\n",
      "1             2  0.861076\n",
      "16            2  0.862888\n",
      "11            2  0.860262\n",
      "5             2  0.861494\n",
      "12            3  0.856996\n",
      "7             3  0.856472\n",
      "24            3  0.861394\n",
      "6             3  0.863045\n",
      "15            4  0.856564\n",
      "23            4  0.845440\n",
      "0             4  0.856361\n",
      "3             5  0.860449\n",
      "18            5  0.861336\n",
      "22            5  0.861958\n",
      "13            6  0.856884\n",
      "14            6  0.859105\n",
      "17            6  0.857510\n",
      "20            6  0.861441\n",
      "21            6  0.856666\n",
      "19            7  0.850045\n",
      "10            7  0.856402\n",
      "4             7  0.857013\n",
      "9             8  0.855823\n",
      "8             8  0.860360\n",
      "2             8  0.862510\n",
      "   min_samples_leaf     score\n",
      "1                 1  0.861076\n",
      "20                1  0.861441\n",
      "19                1  0.850045\n",
      "16                1  0.862888\n",
      "9                 1  0.855823\n",
      "2                 2  0.862510\n",
      "4                 2  0.857013\n",
      "18                2  0.861336\n",
      "13                2  0.856884\n",
      "24                3  0.861394\n",
      "6                 3  0.863045\n",
      "0                 4  0.856361\n",
      "8                 4  0.860360\n",
      "5                 4  0.861494\n",
      "3                 4  0.860449\n",
      "23                5  0.845440\n",
      "17                5  0.857510\n",
      "11                5  0.860262\n",
      "14                6  0.859105\n",
      "21                6  0.856666\n",
      "22                6  0.861958\n",
      "10                7  0.856402\n",
      "15                7  0.856564\n",
      "7                 7  0.856472\n",
      "12                7  0.856996\n",
      "   n_estimators     score\n",
      "0           100  0.856361\n",
      "4           100  0.857013\n",
      "6           100  0.863045\n",
      "23          100  0.845440\n",
      "16          200  0.862888\n",
      "15          200  0.856564\n",
      "14          200  0.859105\n",
      "13          200  0.856884\n",
      "18          200  0.861336\n",
      "19          200  0.850045\n",
      "7           200  0.856472\n",
      "3           200  0.860449\n",
      "22          200  0.861958\n",
      "1           200  0.861076\n",
      "8           200  0.860360\n",
      "20          300  0.861441\n",
      "11          300  0.860262\n",
      "5           300  0.861494\n",
      "17          300  0.857510\n",
      "21          400  0.856666\n",
      "12          400  0.856996\n",
      "9           400  0.855823\n",
      "2           400  0.862510\n",
      "10          400  0.856402\n",
      "24          400  0.861394\n"
     ]
    }
   ],
   "source": [
    "print(pd.DataFrame({'max_depth': model_rf.cv_results_['param_randomforestclassifier__max_depth'], 'score': model_rf.cv_results_['mean_test_score']}).sort_values(by='max_depth', axis=0))\n",
    "print(pd.DataFrame({'max_features': model_rf.cv_results_['param_randomforestclassifier__max_features'], 'score': model_rf.cv_results_['mean_test_score']}).sort_values(by='max_features', axis=0))\n",
    "print(pd.DataFrame({'min_samples_leaf': model_rf.cv_results_['param_randomforestclassifier__min_samples_leaf'], 'score': model_rf.cv_results_['mean_test_score']}).sort_values(by='min_samples_leaf', axis=0))\n",
    "print(pd.DataFrame({'n_estimators': model_rf.cv_results_['param_randomforestclassifier__n_estimators'], 'score': model_rf.cv_results_['mean_test_score']}).sort_values(by='n_estimators', axis=0))"
   ]
  },
  {
   "cell_type": "code",
   "execution_count": 79,
   "metadata": {},
   "outputs": [
    {
     "data": {
      "text/plain": [
       "0.8636363636363636"
      ]
     },
     "execution_count": 79,
     "metadata": {},
     "output_type": "execute_result"
    }
   ],
   "source": [
    "model_rf.best_estimator_.fit(x_train, y_train)\n",
    "model_rf_preds = model_rf.best_estimator_.predict(x_val)\n",
    "roc_auc_score(y_val, model_rf_preds)"
   ]
  },
  {
   "cell_type": "code",
   "execution_count": 80,
   "metadata": {},
   "outputs": [],
   "source": [
    "best_knn_model = model_knn.best_estimator_\n",
    "\n",
    "best_rf_model = model_rf.best_estimator_"
   ]
  },
  {
   "cell_type": "code",
   "execution_count": 81,
   "metadata": {},
   "outputs": [],
   "source": [
    "clfs = [(\"KNN\", best_knn_model),\n",
    "       (\"RF\", best_rf_model)]"
   ]
  },
  {
   "cell_type": "code",
   "execution_count": 82,
   "metadata": {},
   "outputs": [],
   "source": [
    "new_model=VotingClassifier(estimators=clfs)"
   ]
  },
  {
   "cell_type": "code",
   "execution_count": 83,
   "metadata": {},
   "outputs": [
    {
     "data": {
      "text/plain": [
       "VotingClassifier(estimators=[('KNN',\n",
       "                              Pipeline(steps=[('columntransformer',\n",
       "                                               ColumnTransformer(remainder='passthrough',\n",
       "                                                                 transformers=[('Standardscaler',\n",
       "                                                                                StandardScaler(),\n",
       "                                                                                ['Age',\n",
       "                                                                                 'Fare',\n",
       "                                                                                 'Family_Size']),\n",
       "                                                                               ('Onehotencoder',\n",
       "                                                                                OneHotEncoder(),\n",
       "                                                                                ['Pclass',\n",
       "                                                                                 'Sex',\n",
       "                                                                                 'HasCabin'])])),\n",
       "                                              ('kneighborsclassifier',\n",
       "                                               KNeighborsClassifier(leaf_size=10,\n",
       "                                                                    n_neighbors=4))])),\n",
       "                             ('RF',\n",
       "                              Pipeline(steps=[('columntransformer',\n",
       "                                               ColumnTransformer(remainder='passthrough',\n",
       "                                                                 transformers=[('Standardscaler',\n",
       "                                                                                StandardScaler(),\n",
       "                                                                                ['Age',\n",
       "                                                                                 'Fare',\n",
       "                                                                                 'Family_Size']),\n",
       "                                                                               ('Onehotencoder',\n",
       "                                                                                OneHotEncoder(),\n",
       "                                                                                ['Pclass',\n",
       "                                                                                 'Sex',\n",
       "                                                                                 'HasCabin'])])),\n",
       "                                              ('randomforestclassifier',\n",
       "                                               RandomForestClassifier(max_depth=4,\n",
       "                                                                      max_features=3,\n",
       "                                                                      min_samples_leaf=3,\n",
       "                                                                      random_state=42))]))])"
      ]
     },
     "execution_count": 83,
     "metadata": {},
     "output_type": "execute_result"
    }
   ],
   "source": [
    "new_model.fit(x_train,y_train.values.ravel())"
   ]
  },
  {
   "cell_type": "code",
   "execution_count": 85,
   "metadata": {},
   "outputs": [],
   "source": [
    "pred_test = new_model.predict(x_val)"
   ]
  },
  {
   "cell_type": "code",
   "execution_count": 87,
   "metadata": {},
   "outputs": [
    {
     "name": "stdout",
     "output_type": "stream",
     "text": [
      "[[83  5]\n",
      " [16 39]]\n",
      "              precision    recall  f1-score   support\n",
      "\n",
      "           0       0.84      0.94      0.89        88\n",
      "           1       0.89      0.71      0.79        55\n",
      "\n",
      "    accuracy                           0.85       143\n",
      "   macro avg       0.86      0.83      0.84       143\n",
      "weighted avg       0.86      0.85      0.85       143\n",
      "\n",
      "0.8261363636363636\n"
     ]
    }
   ],
   "source": [
    "print(confusion_matrix(y_val,pred_test))\n",
    "print(classification_report(y_val,pred_test))\n",
    "print(roc_auc_score(y_val,pred_test))"
   ]
  },
  {
   "cell_type": "markdown",
   "metadata": {},
   "source": [
    "### seems like the RF model performed the best based on ROC_AUC"
   ]
  },
  {
   "cell_type": "code",
   "execution_count": 88,
   "metadata": {},
   "outputs": [
    {
     "name": "stdout",
     "output_type": "stream",
     "text": [
      "KNN:  0.7351778656126482\n",
      "RF:  0.7904479578392621\n",
      "VotingClassifier:  0.7570487483530962\n"
     ]
    }
   ],
   "source": [
    "final_knn_preds = model_knn.predict(x_test)\n",
    "final_rf_preds = model_rf.predict(x_test)\n",
    "final_voting_preds = new_model.predict(x_test)\n",
    "\n",
    "print(\"KNN: \", roc_auc_score(y_test, final_knn_preds))\n",
    "print(\"RF: \", roc_auc_score(y_test, final_rf_preds))\n",
    "print(\"VotingClassifier: \", roc_auc_score(y_test, final_voting_preds))"
   ]
  },
  {
   "cell_type": "code",
   "execution_count": 95,
   "metadata": {},
   "outputs": [],
   "source": [
    "new_pred_final = model_rf.predict(final_test_df)"
   ]
  },
  {
   "cell_type": "code",
   "execution_count": 96,
   "metadata": {},
   "outputs": [],
   "source": [
    "final_test_df2 = pd.read_csv(\"test.csv\")\n",
    "submission2 = pd.concat([final_test_df2[\"PassengerId\"], pd.Series(new_pred_final,name=\"Survived\")],axis=1)"
   ]
  },
  {
   "cell_type": "code",
   "execution_count": 97,
   "metadata": {},
   "outputs": [
    {
     "data": {
      "text/html": [
       "<div>\n",
       "<style scoped>\n",
       "    .dataframe tbody tr th:only-of-type {\n",
       "        vertical-align: middle;\n",
       "    }\n",
       "\n",
       "    .dataframe tbody tr th {\n",
       "        vertical-align: top;\n",
       "    }\n",
       "\n",
       "    .dataframe thead th {\n",
       "        text-align: right;\n",
       "    }\n",
       "</style>\n",
       "<table border=\"1\" class=\"dataframe\">\n",
       "  <thead>\n",
       "    <tr style=\"text-align: right;\">\n",
       "      <th></th>\n",
       "      <th>PassengerId</th>\n",
       "      <th>Survived</th>\n",
       "    </tr>\n",
       "  </thead>\n",
       "  <tbody>\n",
       "    <tr>\n",
       "      <th>0</th>\n",
       "      <td>892</td>\n",
       "      <td>0</td>\n",
       "    </tr>\n",
       "    <tr>\n",
       "      <th>1</th>\n",
       "      <td>893</td>\n",
       "      <td>1</td>\n",
       "    </tr>\n",
       "    <tr>\n",
       "      <th>2</th>\n",
       "      <td>894</td>\n",
       "      <td>0</td>\n",
       "    </tr>\n",
       "    <tr>\n",
       "      <th>3</th>\n",
       "      <td>895</td>\n",
       "      <td>0</td>\n",
       "    </tr>\n",
       "    <tr>\n",
       "      <th>4</th>\n",
       "      <td>896</td>\n",
       "      <td>1</td>\n",
       "    </tr>\n",
       "    <tr>\n",
       "      <th>...</th>\n",
       "      <td>...</td>\n",
       "      <td>...</td>\n",
       "    </tr>\n",
       "    <tr>\n",
       "      <th>413</th>\n",
       "      <td>1305</td>\n",
       "      <td>0</td>\n",
       "    </tr>\n",
       "    <tr>\n",
       "      <th>414</th>\n",
       "      <td>1306</td>\n",
       "      <td>1</td>\n",
       "    </tr>\n",
       "    <tr>\n",
       "      <th>415</th>\n",
       "      <td>1307</td>\n",
       "      <td>0</td>\n",
       "    </tr>\n",
       "    <tr>\n",
       "      <th>416</th>\n",
       "      <td>1308</td>\n",
       "      <td>0</td>\n",
       "    </tr>\n",
       "    <tr>\n",
       "      <th>417</th>\n",
       "      <td>1309</td>\n",
       "      <td>0</td>\n",
       "    </tr>\n",
       "  </tbody>\n",
       "</table>\n",
       "<p>418 rows × 2 columns</p>\n",
       "</div>"
      ],
      "text/plain": [
       "     PassengerId  Survived\n",
       "0            892         0\n",
       "1            893         1\n",
       "2            894         0\n",
       "3            895         0\n",
       "4            896         1\n",
       "..           ...       ...\n",
       "413         1305         0\n",
       "414         1306         1\n",
       "415         1307         0\n",
       "416         1308         0\n",
       "417         1309         0\n",
       "\n",
       "[418 rows x 2 columns]"
      ]
     },
     "execution_count": 97,
     "metadata": {},
     "output_type": "execute_result"
    }
   ],
   "source": [
    "submission2"
   ]
  },
  {
   "cell_type": "code",
   "execution_count": 99,
   "metadata": {},
   "outputs": [],
   "source": [
    "submission2.to_csv(\"Submission V2.csv\", index=False)\n",
    "#seems like this was worst than the first time"
   ]
  },
  {
   "cell_type": "code",
   "execution_count": 102,
   "metadata": {},
   "outputs": [],
   "source": [
    "new_pred_final2 = new_model.predict(final_test_df)\n",
    "submission2_2 = pd.concat([final_test_df2[\"PassengerId\"], pd.Series(new_pred_final2,name=\"Survived\")],axis=1)"
   ]
  },
  {
   "cell_type": "code",
   "execution_count": 103,
   "metadata": {},
   "outputs": [],
   "source": [
    "submission2_2.to_csv(\"Submission V2_2.csv\", index=False)\n",
    "#also worst"
   ]
  },
  {
   "cell_type": "code",
   "execution_count": 104,
   "metadata": {},
   "outputs": [
    {
     "name": "stdout",
     "output_type": "stream",
     "text": [
      "0.8113450429964191\n",
      "0.8636363636363636\n"
     ]
    }
   ],
   "source": []
  },
  {
   "cell_type": "code",
   "execution_count": null,
   "metadata": {},
   "outputs": [],
   "source": [
    "fpr, tpr, threshold = roc_curve(y_test, pred_test)"
   ]
  },
  {
   "cell_type": "code",
   "execution_count": null,
   "metadata": {},
   "outputs": [],
   "source": [
    "print(auc(fpr,tpr))\n",
    "print(classification_report(y_test,pred_test))"
   ]
  },
  {
   "cell_type": "code",
   "execution_count": null,
   "metadata": {},
   "outputs": [],
   "source": [
    "pred_knn = model_knn.predict(x_test)\n",
    "fpr_knn, tpr_knn, threshold_knn = roc_curve(y_test, pred_knn)\n",
    "print(auc(fpr_knn, tpr_knn))\n",
    "print(classification_report(y_test,pred_knn))"
   ]
  },
  {
   "cell_type": "code",
   "execution_count": null,
   "metadata": {},
   "outputs": [],
   "source": [
    "pred_rf = model_rf.predict(x_test)\n",
    "fpr_rf, tpr_rf, threshold_knn = roc_curve(y_test, pred_rf)\n",
    "print(auc(fpr_rf, tpr_rf))\n",
    "print(classification_report(y_test,pred_rf))"
   ]
  },
  {
   "cell_type": "code",
   "execution_count": null,
   "metadata": {},
   "outputs": [],
   "source": []
  },
  {
   "cell_type": "code",
   "execution_count": null,
   "metadata": {},
   "outputs": [],
   "source": []
  },
  {
   "cell_type": "code",
   "execution_count": null,
   "metadata": {},
   "outputs": [],
   "source": []
  }
 ],
 "metadata": {
  "kernelspec": {
   "display_name": "Python 3",
   "language": "python",
   "name": "python3"
  },
  "language_info": {
   "codemirror_mode": {
    "name": "ipython",
    "version": 3
   },
   "file_extension": ".py",
   "mimetype": "text/x-python",
   "name": "python",
   "nbconvert_exporter": "python",
   "pygments_lexer": "ipython3",
   "version": "3.8.5"
  }
 },
 "nbformat": 4,
 "nbformat_minor": 4
}
